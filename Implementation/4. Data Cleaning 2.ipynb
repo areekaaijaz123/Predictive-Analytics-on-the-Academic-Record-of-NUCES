{
 "cells": [
  {
   "cell_type": "code",
   "execution_count": 1,
   "metadata": {},
   "outputs": [
    {
     "name": "stderr",
     "output_type": "stream",
     "text": [
      "C:\\Users\\Areeka Aijaz\\Anaconda3\\lib\\site-packages\\fuzzywuzzy\\fuzz.py:11: UserWarning: Using slow pure-python SequenceMatcher. Install python-Levenshtein to remove this warning\n",
      "  warnings.warn('Using slow pure-python SequenceMatcher. Install python-Levenshtein to remove this warning')\n"
     ]
    }
   ],
   "source": [
    "import pandas as pd\n",
    "import numpy as np\n",
    "\n",
    "import fuzzywuzzy\n",
    "from fuzzywuzzy import process\n",
    "\n",
    "from nltk.stem import PorterStemmer\n",
    "ps = PorterStemmer()"
   ]
  },
  {
   "cell_type": "code",
   "execution_count": 2,
   "metadata": {},
   "outputs": [],
   "source": [
    "training_data = pd.read_csv(\"Datasets\\\\Training_Data.csv\", encoding= 'unicode_escape', keep_default_na=False)\n",
    "testing_data = pd.read_csv(\"Datasets\\\\Testing_Data.csv\", encoding= 'unicode_escape', keep_default_na=False)\n",
    "warning_train_data = pd.read_csv(\"Datasets\\\\Warning_Train_Data.csv\", encoding= 'unicode_escape', keep_default_na=False)\n",
    "warning_test_data = pd.read_csv(\"Datasets\\\\Warning_Test_Data.csv\", encoding= 'unicode_escape', keep_default_na=False)"
   ]
  },
  {
   "cell_type": "code",
   "execution_count": 3,
   "metadata": {},
   "outputs": [],
   "source": [
    "unique_schools = ['abbottabad', 'abbotabad public shool', 'abdali school', 'aes school for girls', 'agha khan school', 'agha khan board',\n",
    "                 'agha khan university', 'ahmed public school', 'air base inter college', 'aitchison college', 'ayesha bawany academy', \n",
    "                  'army public school','ajk board', 'aizar school', 'alhuda school', 'ali ali boys', 'allama iqbal public school', 'almurtaza school',\n",
    "                  'american school', 'angels school', 'apsacs', 'army burnhall college for boys', 'army public school and college', \n",
    "                  'army public school', 'army public school and degree college for boys', 'army pubmic school for girls azam garrison', 'asf public school', \n",
    "                  'army public school mahfooz pura lahore cantt', 'attia higher secondary school', 'aziz bhatti college', 'babar english school', 'bahawalpur', 'bahria college',\n",
    "                  'beacon house school system', 'bahria foundation', 'bahria college', 'bahria college karsaz habib rahmat ullah road karachi', 'balochistan', 'balochistan residential college loralai', \n",
    "                  'beaconhouse canal side', 'beaconhouse garden town ', 'bise', 'blessing home', 'bloom field hall',\n",
    "                 'bahria college naval complex e islamabad', 'blue horizon', 'bright future school', 'british council', 'british international school', 'bvs parsi high school abdullah haroon road',\n",
    "                 'caa model school', 'cadet college', 'cambridge', 'cambridge international examinations', 'cathedral high school', 'central model school', 'chand bagh school', \n",
    "                 'city cliff school', 'city school', 'civil aviation', 'comprehensive model higher secondary school', 'connoiseur grammar school', 'convent of jesus and mary', \n",
    "                 'country grammar school', 'crescent model higher secondary school', 'crescent public', 'chinar army public school', 'chiniot islamia',\n",
    "                 'customs public school', 'da high school', 'darearqam model high school', 'darululoom', 'dav public high school', 'defence authority model',\n",
    "                 'defence public school', 'defence public school for boys', 'dera ghazi khan', 'dha khalifa bin zayad high school', 'district public school', 'divisional public school and college',\n",
    "                 'don bosco school', 'dps model town', 'educators', 'edwards college', 'english grammar school', 'esena foundation',\n",
    "                 'ever shine college', 'excelsior', 'f g school', 'faisal public high school', 'faisalabad', 'falcon house grammaer school',\n",
    "                 'farooqi high school', 'fatimiyah boys school', 'fauji  foundation', 'fazaia degree college', 'fazaia inter college', 'federal government school',\n",
    "                 'federal board of intermediate and secondary education', 'fg boys public school', 'forward model school', 'fouji foundation model school',\n",
    "                 'foundation public school', 'frontier children academy', 'frontier model school', 'garrision boys high school', 'garrison acedemy for girls', 'ghazali school', 'giki institute school', 'glamour children academy',\n",
    "                 'government school', 'govt comprehensive school', 'govt girls school', 'govt high school', 'govt muslim high school',\n",
    "                 'govt central model school', 'govt pilot secondary school', 'grand folks paradise', 'greenwich', 'guards public school', 'govt higher secondary school',\n",
    "                 'gujranwala', 'gulistan shah abdul latif', 'gulshan iqbal high school', 'habib public school', 'hamdard  public school',\n",
    "                 'happy home high school', 'happy home english secondary school', 'happy palace school', 'heaven house high school', 'himayat e islam public school', 'hira high school',\n",
    "                 'honours kinder garten', 'ibne sina', 'ideal', 'institute of learning and motivation', 'imtiaz public high school', 'international school',\n",
    "                 'iqra huffaz school', 'islamabad college', 'islamia school', 'jinnah', 'kamran public school', 'karachi grammer secondary school',\n",
    "                 'karachi public school', 'karakuram international', 'khanewal public school', 'kips high school for boys', 'kohinoor grammar school',\n",
    "                 'kulsoom bai valika airport', 'la salle higher', 'laboratory high school', 'ladybird grammar school', 'lahore cadet school', 'lahore public school',\n",
    "                 'lahore model school', 'lasalle high school', 'latif school', 'laural bank public school', 'layyah public school', 'lda model high school',\n",
    "                 'little folks school', 'light house public school', 'mama parsi', 'masoomeen foundation', 'mazhar muslim model',\n",
    "                 'mehran school', 'meritorius school', 'metropolis academy', 'metropolitan academy', 'millat public school', 'mirpurkhas',\n",
    "                 'misali zakariya school', 'moon public school', 'mudrasa tul binat', 'muhammadi girls', 'multan public school',\n",
    "                 'municipal high school', 'municipal inter college', 'muslim model high school', 'nasra school', 'national model high school', 'national high school', 'native public school', 'naveed foundation high school',\n",
    "                 'new cantt public boys high school', 'new islamai public high school', 'new day secondary school', 'nishat high school',\n",
    "                 'north school', 'noukhez public high school', 'nusrat jahan academy', 'opf public school', 'oxford school', 'paec model college',\n",
    "                 'paf degree college', 'paf inter college', 'paf intermediate college', 'paf shaheen college', 'pak turk international school', \n",
    "                 'pakistan internation school', 'pakistan islamia higher secondary school', 'pakistan steel cadet college',\n",
    "                 'parco public school', 'peshawar model school', 'peshawar public school', 'pilot secondary school', 'police public school', 'prince aly boys',\n",
    "                 'pakistan international school', 'pakistan school', 'public school and college', 'quaid e azam public school',\n",
    "                 'qurban boys high school', 'qurtuba public school', 'rahman children', 'roots montessori and high school', 'roshan tara model',\n",
    "                 's m public academy campus', 'sacred heart cathederal school', 'saint anthonys', 'saint john', 'saint mary', 'saint paul',\n",
    "                 'saint stephen', 'saleem nawaz college masroor', 'sardar khan high school', 'school of international studies', 'shaheen public school',\n",
    "                 'shahwilayat public school', 'shakir school', 'shamsi society model school', 'sharif education complex', 'siqarah high school',\n",
    "                 'sls montessori school nazimuddin', 'sms aga khan school', 'st anthonys high school', 'st bonaventure high school', 'st dominics convent school',\n",
    "                 'st gregorys high school', 'st joseph convent', 'st marys high school khyber road peshawar', 'st michaels convent', 'st patricks school', 'standard model school',\n",
    "                 'stpauls high school', 'sultan mohammad shah aga khan', 'superior science college', 'tabinda model high school', 'tameer e nasle nau high school quetta',\n",
    "                 'the city school', 'the educational world secondary', 'the educators', 'the fahim school', 'the lahore lyceum', 'the mama parsi girls secondary',\n",
    "                 'the model public school', 'the punjab school', 'the scholars school', 'the trust school', 'toronto school of academic', 'university of cambridge',\n",
    "                 'university wensam college', 'usman science school', 'wapda boys high school', 'wapda cadet college', 'wapda senior model school',\n",
    "                 'white house gammar school', 'zaheer public school', 'warsak model school', 'workers welfare school', 'unique high school', 'the punjab school',\n",
    "                 'the educators progressive childrens academy', 'super radiant way high school', 'stmarys high school', 'st pauls english high school',\n",
    "                 'super radiant way high school', 'saint marys academy', 'muhammadi girls', 'government central model school lower mall lahore', 'misali zakaria higher secondry school muzaffar garh',\n",
    "                 'private', 'qamarebani hashim school', 'quaidiazam divisional public school gujranwala', 'sargodha']"
   ]
  },
  {
   "cell_type": "code",
   "execution_count": 4,
   "metadata": {},
   "outputs": [],
   "source": [
    "unique_colleges = ['abbottabad', 'adamjee science college', 'adamjee govt science college', 'aga khan higher secondary school', \n",
    "                   'aga khan university', 'air base inter college ', 'aisha bawany', 'army burn hall college', 'army public school',\n",
    "                   'army public school and college', 'bahawalpur', 'bahria colleg karsaz habib rahmatullah road', 'bahria college mt khan road',\n",
    "                   'balochistan', 'balochistan residential college loralai',\n",
    "                   'bamm pechs govt college for women', 'beacon house', 'bise dera ghazi khan', 'bise dg khan', 'bise faisalabad', \n",
    "                   'bise gujranwala', 'bise hyderabad', 'bise islamabad', 'bise karachi', 'bise lahore', 'bise  malakand', 'bise mirpur',\n",
    "                   'bise quetta', 'bise rawalpindi', 'bise sargodha', 'bise sukkur', 'bise bahawalpur','bloomfield hall', 'british council karachi', 'british council peshawar',\n",
    "                   'cadet college hasanabdal', 'cadet college petaro', 'cambridge', 'chenab college', 'city school' , 'college of emerging technologies',\n",
    "                   'commecs', 'commecs institite of business and emerging sciences', 'community model', 'crescent college', 'cresent model',\n",
    "                   'dj sindh govt science college', 'da degree college', 'defence degree college', 'defence public school and college',\n",
    "                   'dehli college', 'dera ismail khan', 'dha degree college', 'divisional public school  and college', 'dps model town',\n",
    "                   'dps and sahiwal', 'edexcel', 'edwards college', 'edwards school', 'emerson college', 'excelsior college', 'fg degree college',\n",
    "                   'faizan high school tando allahyar', 'farhan college', 'fatimiyah college', 'fauji foundation college', 'fazaia degre college', \n",
    "                   'fazaia intermediate college', 'fbise', 'fc college', 'federal board', 'federal govt degree college', 'forman christian college',\n",
    "                   'foundation public school', 'gc univesity', 'garrison science degree college', 'garrison academy', 'garrison post graduate college', \n",
    "                   'gift college', 'giki', 'global system of integrated studies', 'gojra college', 'gov islamia college civil lines',\n",
    "                   'government college for boys', 'governement college women', 'government college of science',\n",
    "                   'government delhi college', 'government post graduate college', 'govt college bosan road multan', 'govt college jampur', 'govt college university lahore',\n",
    "                   'govt degree boys college gulzar e hijri', 'govt degree college chowk azam', 'govt degree college dg khan', 'govt degree college gulshan e iqbal',\n",
    "                   'govt degree college hasilpur', 'govt degree college larkana', 'govt degree college malir cantt', 'govt girls high school tandoallahyar', \n",
    "                   'govt goru nanak degree college nankana sahib', 'gov higher secondary school', 'govt jahanzeb college saidu sharif swat',\n",
    "                   'govt kinnaird college', 'govt model college', 'govt murray college sialkot', 'govt muslim college', 'govt national college', 'govt shalimar college',\n",
    "                   'govt superior science college', 'govt zamindar college', 'guards public college',\n",
    "                   'gulberg college', 'gulshan collage', 'hamdard college', 'hira public school sukkur', 'icms college system for boys', 'indus science college rawalpindi',\n",
    "                   'international school and college of pakistan kuwait', 'islamia college'\n",
    "                   'iqra college of science', 'islamabad model college', 'jinnah college for women',\n",
    "                   'jinnah university college', 'kaim khani memorial high secondary  school tando allahyar', 'karachi foundation school', \n",
    "                   'kashmir model college mirpur', 'keynesian institute of management and sciences', 'khanewal public', 'khatoon e pakistan',\n",
    "                   'fareed govt college', 'khyber college of sciences', 'kips intermediate college', 'kohat', 'lahore', 'beaconhouse defence',\n",
    "                   'lahore college for women', 'lahore grammar school', 'larkana', 'layyah public higher secondry school', 'leadership college',                   \n",
    "                   'london', 'manarat international school', 'masoomeen college chiniot', 'mazhar muslim model ranipur', 'mehran model school panoakil',\n",
    "                   'memon academy high school shahdadpur', 'meritorious science college', 'midrassa tul binat', 'mirpur', 'misali', 'multan',\n",
    "                   'muslim public higher secondary school multan', 'national college', 'national grammar school',\n",
    "                   'ncr cet college', 'new fazaia degree college peshawar', 'nicon college', 'nisar shaheed college risalpur', 'nishat college of science',\n",
    "                   'nishat science college', 'nusrat jehan inter college', 'opf boys college', 'others', 'paf college',\n",
    "                   'pak turk international school and college', 'pakistan education center', 'pakistan college muscat',\n",
    "                   'pakistan education foundation college', 'pakistan international school', 'pakistan islamia higher secondary school', 'pakistan scout cadet college batrasi mansehra',\n",
    "                   'pakistan shipowner college', 'pechs education foundation govt college', 'pechs foundation govt college', 'pechs govt college for women',\n",
    "                   'peshawar model degree college', 'peshawar public school and college', 'pis saudi arabia', 'preston intermediate college', 'private',\n",
    "                   'govt degree college sanghar', 'public school hyderabad', 'punjab school', 'punjab college',\n",
    "                   'punjab college for women', 'punjab college of commerce', 'punjab college of information technology', 'punjab group of collges',\n",
    "                   'punjab technical', 'quaid e azam college', 'queen marry college', 'qurtuba college hayatabad', 'rawalpindi', 'rise college of science',\n",
    "                   'roshan tara model higher secondary school', 'sadiq public school', 'sm science college', 'sahiwal', 'saidu sharif',\n",
    "                   'saint patricks', 'salamat icas', 'saudi arabian international', 'scholars college', 'shaheen academy higher secondary school',\n",
    "                   'shaheen intermediate college', 'sindh', 'sindh madressah  tul islam', 'sir adamjee institute', 'sir syed govt girls college',\n",
    "                   'sm govt science college', 'st josephs', 'st bonaventures', 'st lawrances girls collage', 'st patricks college', 'suffa educational complex',\n",
    "                   'sukkur', 'summit education system', 'superior college faisalabad', 'superior college of science', 'superior science higher secondary school',\n",
    "                   'tameer i nau college quetta', 'tcf higher sec school cowasjee', 'the avicenna school', 'the city school', 'the lyceum school',\n",
    "                   'the mardan model school and college', 'superior college of commerce', 'unique college', 'univeristy of cambridge', 'university college lahore', \n",
    "                   'university wensam college', 'ustad bukhari degree college dadu', 'wapda cadet college tarbela', 'wapda degree college terbela', 'warsak model school and college',\n",
    "                   'wensam college']"
   ]
  },
  {
   "cell_type": "code",
   "execution_count": 5,
   "metadata": {},
   "outputs": [],
   "source": [
    "def replace_matches_in_column(df, column, string_to_match, min_ratio = 55):\n",
    "    # get a list of unique strings\n",
    "    strings = df[column].unique()\n",
    "    \n",
    "    # get the top 10 closest matches to our input string\n",
    "    matches = fuzzywuzzy.process.extract(string_to_match, strings, \n",
    "                                         limit=10, scorer=fuzzywuzzy.fuzz.token_sort_ratio)\n",
    "\n",
    "    # only get matches with a ratio > 90\n",
    "    close_matches = [matches[0] for matches in matches if matches[1] >= min_ratio]\n",
    "\n",
    "    # get the rows of all the close matches in our dataframe\n",
    "    rows_with_matches = df[column].isin(close_matches)\n",
    "\n",
    "    # replace all rows with close matches with the input matches \n",
    "    df.loc[rows_with_matches, column] = string_to_match"
   ]
  },
  {
   "cell_type": "code",
   "execution_count": 6,
   "metadata": {},
   "outputs": [],
   "source": [
    "def preprocess(data, column, to_replace):\n",
    "    data[column] = data[column].str.lower()\n",
    "    data[column] = data[column].str.strip()\n",
    "    data[column] = data[column].str.replace('[-./()#?*@\\d,:]+', '')\n",
    "    data.loc[data[column] == \"\", column] = 'others'\n",
    "    data.loc[data[column] == \"na\", column] = 'others'\n",
    "    data.loc[data[column] == \"not given\", column] = 'others'\n",
    "    data.loc[data[column] == \"not known\", column] = 'others'\n",
    "    data[column] = data[column].str.strip()\n",
    "    \n",
    "    preprocessed_list = []\n",
    "    for i in data[column]:\n",
    "        list_ = i.split()\n",
    "        stemmed = []\n",
    "        word = \" \"\n",
    "        for j in list_:\n",
    "            stemmed.append(ps.stem(j))\n",
    "        preprocessed_list.append(word.join(stemmed))\n",
    "        \n",
    "    data[column] = preprocessed_list\n",
    "    \n",
    "    for i in to_replace:\n",
    "        replace_matches_in_column(df=data, column=column, string_to_match=i)\n",
    "        \n",
    "    return data"
   ]
  },
  {
   "cell_type": "code",
   "execution_count": 8,
   "metadata": {},
   "outputs": [
    {
     "name": "stdout",
     "output_type": "stream",
     "text": [
      "Training data [School] 2606\n",
      "Training data [College] 2096\n",
      "Testing data [School] 159\n",
      "Testing data [College] 282\n",
      "Testing data [School] 371\n",
      "Testing data [College] 351\n",
      "Warning_Train_Data [School] 69\n",
      "Warning_Test_Data [College] 135\n"
     ]
    }
   ],
   "source": [
    "print(\"Training data [School]\", len(training_data[\"SCHOOL\"].unique()))\n",
    "print(\"Training data [College]\", len(training_data[\"COLLEGE\"].unique()))\n",
    "\n",
    "print(\"Testing data [School]\", len(testing_data[\"SCHOOL\"].unique()))\n",
    "print(\"Testing data [College]\", len(testing_data[\"COLLEGE\"].unique()))\n",
    "\n",
    "print(\"Testing data [School]\", len(warning_train_data[\"SCHOOL\"].unique()))\n",
    "print(\"Testing data [College]\", len(warning_train_data[\"COLLEGE\"].unique()))\n",
    "\n",
    "print(\"Warning_Train_Data [School]\", len(warning_test_data[\"SCHOOL\"].unique()))\n",
    "print(\"Warning_Test_Data [College]\", len(warning_test_data[\"COLLEGE\"].unique()))"
   ]
  },
  {
   "cell_type": "code",
   "execution_count": 9,
   "metadata": {},
   "outputs": [],
   "source": [
    "training_data = preprocess(training_data, \"SCHOOL\", unique_schools)\n",
    "training_data = preprocess(training_data, \"COLLEGE\", unique_colleges)"
   ]
  },
  {
   "cell_type": "code",
   "execution_count": 10,
   "metadata": {},
   "outputs": [],
   "source": [
    "testing_data = preprocess(testing_data, \"SCHOOL\", unique_schools)\n",
    "testing_data = preprocess(testing_data, \"COLLEGE\", unique_colleges)"
   ]
  },
  {
   "cell_type": "code",
   "execution_count": 11,
   "metadata": {},
   "outputs": [],
   "source": [
    "warning_train_data = preprocess(warning_train_data, \"SCHOOL\", unique_schools)\n",
    "warning_train_data = preprocess(warning_train_data, \"COLLEGE\", unique_colleges)"
   ]
  },
  {
   "cell_type": "code",
   "execution_count": 12,
   "metadata": {},
   "outputs": [],
   "source": [
    "warning_test_data = preprocess(warning_test_data, \"SCHOOL\", unique_schools)\n",
    "warning_test_data = preprocess(warning_test_data, \"COLLEGE\", unique_colleges)"
   ]
  },
  {
   "cell_type": "code",
   "execution_count": 13,
   "metadata": {},
   "outputs": [
    {
     "name": "stdout",
     "output_type": "stream",
     "text": [
      "Training data [School] 487\n",
      "Training data [College] 263\n",
      "Testing data [School] 68\n",
      "Testing data [College] 40\n",
      "Testing data [School] 56\n",
      "Testing data [College] 45\n",
      "Warning_Train_Data [School] 34\n",
      "Warning_Test_Data [College] 19\n"
     ]
    }
   ],
   "source": [
    "print(\"Training data [School]\", len(training_data[\"SCHOOL\"].unique()))\n",
    "print(\"Training data [College]\", len(training_data[\"COLLEGE\"].unique()))\n",
    "\n",
    "print(\"Testing data [School]\", len(testing_data[\"SCHOOL\"].unique()))\n",
    "print(\"Testing data [College]\", len(testing_data[\"COLLEGE\"].unique()))\n",
    "\n",
    "print(\"Testing data [School]\", len(warning_train_data[\"SCHOOL\"].unique()))\n",
    "print(\"Testing data [College]\", len(warning_train_data[\"COLLEGE\"].unique()))\n",
    "\n",
    "print(\"Warning_Train_Data [School]\", len(warning_test_data[\"SCHOOL\"].unique()))\n",
    "print(\"Warning_Test_Data [College]\", len(warning_test_data[\"COLLEGE\"].unique()))"
   ]
  },
  {
   "cell_type": "code",
   "execution_count": 16,
   "metadata": {},
   "outputs": [],
   "source": [
    "training_data.to_csv(\"Final Data//Training_Data.csv\", index=False)\n",
    "testing_data.to_csv(\"Final Data//Testing_Data.csv\", index=False)\n",
    "\n",
    "warning_train_data.to_csv(\"Final Data//Warning_Train_Data.csv\", index=False)\n",
    "warning_test_data.to_csv(\"Final Data//Warning_Test_Data.csv\", index=False)"
   ]
  },
  {
   "cell_type": "code",
   "execution_count": null,
   "metadata": {},
   "outputs": [],
   "source": []
  }
 ],
 "metadata": {
  "kernelspec": {
   "display_name": "Python 3",
   "language": "python",
   "name": "python3"
  },
  "language_info": {
   "codemirror_mode": {
    "name": "ipython",
    "version": 3
   },
   "file_extension": ".py",
   "mimetype": "text/x-python",
   "name": "python",
   "nbconvert_exporter": "python",
   "pygments_lexer": "ipython3",
   "version": "3.7.3"
  }
 },
 "nbformat": 4,
 "nbformat_minor": 2
}
